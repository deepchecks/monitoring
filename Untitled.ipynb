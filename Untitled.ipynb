{
 "cells": [
  {
   "cell_type": "code",
   "execution_count": 2,
   "id": "efcf4638-0b3e-47c9-89e6-5646dcaab051",
   "metadata": {
    "tags": []
   },
   "outputs": [
    {
     "name": "stdout",
     "output_type": "stream",
     "text": [
      "Requirement already satisfied: deepchecks_client in /Library/Frameworks/Python.framework/Versions/3.8/lib/python3.8/site-packages (0.12.0)\n",
      "Collecting deepchecks_client\n",
      "  Using cached deepchecks_client-0.15.2-py3-none-any.whl (340 kB)\n",
      "Requirement already satisfied: numpy in /Library/Frameworks/Python.framework/Versions/3.8/lib/python3.8/site-packages (from deepchecks_client) (1.24.2)\n",
      "Requirement already satisfied: pandas in /Library/Frameworks/Python.framework/Versions/3.8/lib/python3.8/site-packages (from deepchecks_client) (1.4.4)\n",
      "Requirement already satisfied: deepchecks in /Library/Frameworks/Python.framework/Versions/3.8/lib/python3.8/site-packages (from deepchecks_client) (0.13.1)\n",
      "Requirement already satisfied: httpx>=0.23.0 in /Library/Frameworks/Python.framework/Versions/3.8/lib/python3.8/site-packages (from deepchecks_client) (0.23.0)\n",
      "Requirement already satisfied: pendulum==2.1.2 in /Library/Frameworks/Python.framework/Versions/3.8/lib/python3.8/site-packages (from deepchecks_client) (2.1.2)\n",
      "Requirement already satisfied: fastjsonschema==2.16.2 in /Library/Frameworks/Python.framework/Versions/3.8/lib/python3.8/site-packages (from deepchecks_client) (2.16.2)\n",
      "Requirement already satisfied: termcolor in /Library/Frameworks/Python.framework/Versions/3.8/lib/python3.8/site-packages (from deepchecks_client) (2.2.0)\n",
      "Requirement already satisfied: PyYAML in /Library/Frameworks/Python.framework/Versions/3.8/lib/python3.8/site-packages (from deepchecks_client) (6.0)\n",
      "Requirement already satisfied: pip-system-certs>=3.1 in /Library/Frameworks/Python.framework/Versions/3.8/lib/python3.8/site-packages (from deepchecks_client) (4.0)\n",
      "Requirement already satisfied: typing-extensions==4.4.0 in /Library/Frameworks/Python.framework/Versions/3.8/lib/python3.8/site-packages (from deepchecks_client) (4.4.0)\n",
      "Requirement already satisfied: rfc3339-validator==0.1.4 in /Library/Frameworks/Python.framework/Versions/3.8/lib/python3.8/site-packages (from deepchecks_client) (0.1.4)\n",
      "Requirement already satisfied: packaging==23.0 in /Users/lironhamra/Library/Python/3.8/lib/python/site-packages (from deepchecks_client) (23.0)\n",
      "Requirement already satisfied: python-dateutil<3.0,>=2.6 in /Users/lironhamra/Library/Python/3.8/lib/python/site-packages (from pendulum==2.1.2->deepchecks_client) (2.8.2)\n",
      "Requirement already satisfied: pytzdata>=2020.1 in /Library/Frameworks/Python.framework/Versions/3.8/lib/python3.8/site-packages (from pendulum==2.1.2->deepchecks_client) (2020.1)\n",
      "Requirement already satisfied: six in /Users/lironhamra/Library/Python/3.8/lib/python/site-packages (from rfc3339-validator==0.1.4->deepchecks_client) (1.16.0)\n",
      "Requirement already satisfied: certifi in /Library/Frameworks/Python.framework/Versions/3.8/lib/python3.8/site-packages (from httpx>=0.23.0->deepchecks_client) (2022.12.7)\n",
      "Requirement already satisfied: sniffio in /Library/Frameworks/Python.framework/Versions/3.8/lib/python3.8/site-packages (from httpx>=0.23.0->deepchecks_client) (1.3.0)\n",
      "Requirement already satisfied: rfc3986[idna2008]<2,>=1.3 in /Library/Frameworks/Python.framework/Versions/3.8/lib/python3.8/site-packages (from httpx>=0.23.0->deepchecks_client) (1.5.0)\n",
      "Requirement already satisfied: httpcore<0.16.0,>=0.15.0 in /Library/Frameworks/Python.framework/Versions/3.8/lib/python3.8/site-packages (from httpx>=0.23.0->deepchecks_client) (0.15.0)\n",
      "Requirement already satisfied: wrapt>=1.10.4 in /Library/Frameworks/Python.framework/Versions/3.8/lib/python3.8/site-packages (from pip-system-certs>=3.1->deepchecks_client) (1.14.1)\n",
      "Requirement already satisfied: scikit-learn>=0.23.2 in /Library/Frameworks/Python.framework/Versions/3.8/lib/python3.8/site-packages (from deepchecks->deepchecks_client) (1.2.1)\n",
      "Requirement already satisfied: jsonpickle>=2 in /Library/Frameworks/Python.framework/Versions/3.8/lib/python3.8/site-packages (from deepchecks->deepchecks_client) (3.0.1)\n",
      "Requirement already satisfied: PyNomaly>=0.3.3 in /Library/Frameworks/Python.framework/Versions/3.8/lib/python3.8/site-packages (from deepchecks->deepchecks_client) (0.3.3)\n",
      "Requirement already satisfied: tqdm>=4.62.3 in /Library/Frameworks/Python.framework/Versions/3.8/lib/python3.8/site-packages (from deepchecks->deepchecks_client) (4.64.1)\n",
      "Requirement already satisfied: category-encoders>=2.3.0 in /Library/Frameworks/Python.framework/Versions/3.8/lib/python3.8/site-packages (from deepchecks->deepchecks_client) (2.6.0)\n",
      "Requirement already satisfied: scipy>=1.4.1 in /Library/Frameworks/Python.framework/Versions/3.8/lib/python3.8/site-packages (from deepchecks->deepchecks_client) (1.10.0)\n",
      "Requirement already satisfied: plotly>=5.13.1 in /Library/Frameworks/Python.framework/Versions/3.8/lib/python3.8/site-packages (from deepchecks->deepchecks_client) (5.13.1)\n",
      "Requirement already satisfied: matplotlib>=3.3.4 in /Library/Frameworks/Python.framework/Versions/3.8/lib/python3.8/site-packages (from deepchecks->deepchecks_client) (3.6.3)\n",
      "Requirement already satisfied: pyzmq<24.0.0 in /Library/Frameworks/Python.framework/Versions/3.8/lib/python3.8/site-packages (from deepchecks->deepchecks_client) (23.2.1)\n",
      "Requirement already satisfied: beautifulsoup4>=4.11.1 in /Library/Frameworks/Python.framework/Versions/3.8/lib/python3.8/site-packages (from deepchecks->deepchecks_client) (4.11.2)\n",
      "Requirement already satisfied: importlib-resources>=1.3 in /Library/Frameworks/Python.framework/Versions/3.8/lib/python3.8/site-packages (from deepchecks->deepchecks_client) (5.10.2)\n",
      "Requirement already satisfied: statsmodels>=0.13.5 in /Library/Frameworks/Python.framework/Versions/3.8/lib/python3.8/site-packages (from deepchecks->deepchecks_client) (0.13.5)\n",
      "Requirement already satisfied: ipython<8,>=7.15.0 in /Library/Frameworks/Python.framework/Versions/3.8/lib/python3.8/site-packages (from deepchecks->deepchecks_client) (7.34.0)\n",
      "Requirement already satisfied: ipykernel>=5.3.0 in /Users/lironhamra/Library/Python/3.8/lib/python/site-packages (from deepchecks->deepchecks_client) (6.21.1)\n",
      "Requirement already satisfied: ipywidgets<8,>=7.6.5 in /Library/Frameworks/Python.framework/Versions/3.8/lib/python3.8/site-packages (from deepchecks->deepchecks_client) (7.7.2)\n",
      "Requirement already satisfied: pytz>=2020.1 in /Library/Frameworks/Python.framework/Versions/3.8/lib/python3.8/site-packages (from pandas->deepchecks_client) (2022.7.1)\n",
      "Requirement already satisfied: soupsieve>1.2 in /Library/Frameworks/Python.framework/Versions/3.8/lib/python3.8/site-packages (from beautifulsoup4>=4.11.1->deepchecks->deepchecks_client) (2.3.2.post1)\n",
      "Requirement already satisfied: patsy>=0.5.1 in /Library/Frameworks/Python.framework/Versions/3.8/lib/python3.8/site-packages (from category-encoders>=2.3.0->deepchecks->deepchecks_client) (0.5.3)\n",
      "Requirement already satisfied: h11<0.13,>=0.11 in /Library/Frameworks/Python.framework/Versions/3.8/lib/python3.8/site-packages (from httpcore<0.16.0,>=0.15.0->httpx>=0.23.0->deepchecks_client) (0.12.0)\n",
      "Requirement already satisfied: anyio==3.* in /Library/Frameworks/Python.framework/Versions/3.8/lib/python3.8/site-packages (from httpcore<0.16.0,>=0.15.0->httpx>=0.23.0->deepchecks_client) (3.6.2)\n",
      "Requirement already satisfied: idna>=2.8 in /Library/Frameworks/Python.framework/Versions/3.8/lib/python3.8/site-packages (from anyio==3.*->httpcore<0.16.0,>=0.15.0->httpx>=0.23.0->deepchecks_client) (3.4)\n",
      "Requirement already satisfied: zipp>=3.1.0 in /Users/lironhamra/Library/Python/3.8/lib/python/site-packages (from importlib-resources>=1.3->deepchecks->deepchecks_client) (3.12.1)\n",
      "Requirement already satisfied: appnope in /Users/lironhamra/Library/Python/3.8/lib/python/site-packages (from ipykernel>=5.3.0->deepchecks->deepchecks_client) (0.1.3)\n",
      "Requirement already satisfied: comm>=0.1.1 in /Users/lironhamra/Library/Python/3.8/lib/python/site-packages (from ipykernel>=5.3.0->deepchecks->deepchecks_client) (0.1.2)\n",
      "Requirement already satisfied: debugpy>=1.6.5 in /Users/lironhamra/Library/Python/3.8/lib/python/site-packages (from ipykernel>=5.3.0->deepchecks->deepchecks_client) (1.6.6)\n",
      "Requirement already satisfied: jupyter-client>=6.1.12 in /Users/lironhamra/Library/Python/3.8/lib/python/site-packages (from ipykernel>=5.3.0->deepchecks->deepchecks_client) (8.0.2)\n",
      "Requirement already satisfied: jupyter-core!=5.0.*,>=4.12 in /Users/lironhamra/Library/Python/3.8/lib/python/site-packages (from ipykernel>=5.3.0->deepchecks->deepchecks_client) (5.2.0)\n",
      "Requirement already satisfied: matplotlib-inline>=0.1 in /Users/lironhamra/Library/Python/3.8/lib/python/site-packages (from ipykernel>=5.3.0->deepchecks->deepchecks_client) (0.1.6)\n",
      "Requirement already satisfied: nest-asyncio in /Users/lironhamra/Library/Python/3.8/lib/python/site-packages (from ipykernel>=5.3.0->deepchecks->deepchecks_client) (1.5.6)\n",
      "Requirement already satisfied: psutil in /Users/lironhamra/Library/Python/3.8/lib/python/site-packages (from ipykernel>=5.3.0->deepchecks->deepchecks_client) (5.9.4)\n",
      "Requirement already satisfied: tornado>=6.1 in /Users/lironhamra/Library/Python/3.8/lib/python/site-packages (from ipykernel>=5.3.0->deepchecks->deepchecks_client) (6.2)\n",
      "Requirement already satisfied: traitlets>=5.4.0 in /Users/lironhamra/Library/Python/3.8/lib/python/site-packages (from ipykernel>=5.3.0->deepchecks->deepchecks_client) (5.9.0)\n",
      "Requirement already satisfied: setuptools>=18.5 in /Library/Frameworks/Python.framework/Versions/3.8/lib/python3.8/site-packages (from ipython<8,>=7.15.0->deepchecks->deepchecks_client) (56.0.0)\n",
      "Requirement already satisfied: jedi>=0.16 in /Users/lironhamra/Library/Python/3.8/lib/python/site-packages (from ipython<8,>=7.15.0->deepchecks->deepchecks_client) (0.18.2)\n",
      "Requirement already satisfied: decorator in /Users/lironhamra/Library/Python/3.8/lib/python/site-packages (from ipython<8,>=7.15.0->deepchecks->deepchecks_client) (5.1.1)\n",
      "Requirement already satisfied: pickleshare in /Users/lironhamra/Library/Python/3.8/lib/python/site-packages (from ipython<8,>=7.15.0->deepchecks->deepchecks_client) (0.7.5)\n",
      "Requirement already satisfied: prompt-toolkit!=3.0.0,!=3.0.1,<3.1.0,>=2.0.0 in /Users/lironhamra/Library/Python/3.8/lib/python/site-packages (from ipython<8,>=7.15.0->deepchecks->deepchecks_client) (3.0.36)\n",
      "Requirement already satisfied: pygments in /Users/lironhamra/Library/Python/3.8/lib/python/site-packages (from ipython<8,>=7.15.0->deepchecks->deepchecks_client) (2.14.0)\n",
      "Requirement already satisfied: backcall in /Users/lironhamra/Library/Python/3.8/lib/python/site-packages (from ipython<8,>=7.15.0->deepchecks->deepchecks_client) (0.2.0)\n",
      "Requirement already satisfied: pexpect>4.3 in /Users/lironhamra/Library/Python/3.8/lib/python/site-packages (from ipython<8,>=7.15.0->deepchecks->deepchecks_client) (4.8.0)\n",
      "Requirement already satisfied: ipython-genutils~=0.2.0 in /Library/Frameworks/Python.framework/Versions/3.8/lib/python3.8/site-packages (from ipywidgets<8,>=7.6.5->deepchecks->deepchecks_client) (0.2.0)\n",
      "Requirement already satisfied: widgetsnbextension~=3.6.0 in /Library/Frameworks/Python.framework/Versions/3.8/lib/python3.8/site-packages (from ipywidgets<8,>=7.6.5->deepchecks->deepchecks_client) (3.6.1)\n",
      "Requirement already satisfied: jupyterlab-widgets<3,>=1.0.0 in /Library/Frameworks/Python.framework/Versions/3.8/lib/python3.8/site-packages (from ipywidgets<8,>=7.6.5->deepchecks->deepchecks_client) (1.1.1)\n",
      "Requirement already satisfied: contourpy>=1.0.1 in /Library/Frameworks/Python.framework/Versions/3.8/lib/python3.8/site-packages (from matplotlib>=3.3.4->deepchecks->deepchecks_client) (1.0.7)\n",
      "Requirement already satisfied: cycler>=0.10 in /Library/Frameworks/Python.framework/Versions/3.8/lib/python3.8/site-packages (from matplotlib>=3.3.4->deepchecks->deepchecks_client) (0.11.0)\n",
      "Requirement already satisfied: fonttools>=4.22.0 in /Library/Frameworks/Python.framework/Versions/3.8/lib/python3.8/site-packages (from matplotlib>=3.3.4->deepchecks->deepchecks_client) (4.38.0)\n",
      "Requirement already satisfied: kiwisolver>=1.0.1 in /Library/Frameworks/Python.framework/Versions/3.8/lib/python3.8/site-packages (from matplotlib>=3.3.4->deepchecks->deepchecks_client) (1.4.4)\n",
      "Requirement already satisfied: pillow>=6.2.0 in /Library/Frameworks/Python.framework/Versions/3.8/lib/python3.8/site-packages (from matplotlib>=3.3.4->deepchecks->deepchecks_client) (9.4.0)\n",
      "Requirement already satisfied: pyparsing>=2.2.1 in /Library/Frameworks/Python.framework/Versions/3.8/lib/python3.8/site-packages (from matplotlib>=3.3.4->deepchecks->deepchecks_client) (3.0.9)\n",
      "Requirement already satisfied: tenacity>=6.2.0 in /Library/Frameworks/Python.framework/Versions/3.8/lib/python3.8/site-packages (from plotly>=5.13.1->deepchecks->deepchecks_client) (8.1.0)\n",
      "Requirement already satisfied: python-utils in /Library/Frameworks/Python.framework/Versions/3.8/lib/python3.8/site-packages (from PyNomaly>=0.3.3->deepchecks->deepchecks_client) (3.4.5)\n",
      "Requirement already satisfied: joblib>=1.1.1 in /Library/Frameworks/Python.framework/Versions/3.8/lib/python3.8/site-packages (from scikit-learn>=0.23.2->deepchecks->deepchecks_client) (1.2.0)\n",
      "Requirement already satisfied: threadpoolctl>=2.0.0 in /Library/Frameworks/Python.framework/Versions/3.8/lib/python3.8/site-packages (from scikit-learn>=0.23.2->deepchecks->deepchecks_client) (3.1.0)\n",
      "Requirement already satisfied: parso<0.9.0,>=0.8.0 in /Users/lironhamra/Library/Python/3.8/lib/python/site-packages (from jedi>=0.16->ipython<8,>=7.15.0->deepchecks->deepchecks_client) (0.8.3)\n",
      "Requirement already satisfied: importlib-metadata>=4.8.3 in /Users/lironhamra/Library/Python/3.8/lib/python/site-packages (from jupyter-client>=6.1.12->ipykernel>=5.3.0->deepchecks->deepchecks_client) (6.0.0)\n",
      "Requirement already satisfied: platformdirs>=2.5 in /Users/lironhamra/Library/Python/3.8/lib/python/site-packages (from jupyter-core!=5.0.*,>=4.12->ipykernel>=5.3.0->deepchecks->deepchecks_client) (3.0.0)\n",
      "Requirement already satisfied: ptyprocess>=0.5 in /Users/lironhamra/Library/Python/3.8/lib/python/site-packages (from pexpect>4.3->ipython<8,>=7.15.0->deepchecks->deepchecks_client) (0.7.0)\n",
      "Requirement already satisfied: wcwidth in /Users/lironhamra/Library/Python/3.8/lib/python/site-packages (from prompt-toolkit!=3.0.0,!=3.0.1,<3.1.0,>=2.0.0->ipython<8,>=7.15.0->deepchecks->deepchecks_client) (0.2.6)\n",
      "Requirement already satisfied: notebook>=4.4.1 in /Library/Frameworks/Python.framework/Versions/3.8/lib/python3.8/site-packages (from widgetsnbextension~=3.6.0->ipywidgets<8,>=7.6.5->deepchecks->deepchecks_client) (6.5.2)\n",
      "Requirement already satisfied: jinja2 in /Library/Frameworks/Python.framework/Versions/3.8/lib/python3.8/site-packages (from notebook>=4.4.1->widgetsnbextension~=3.6.0->ipywidgets<8,>=7.6.5->deepchecks->deepchecks_client) (3.1.2)\n",
      "Requirement already satisfied: argon2-cffi in /Library/Frameworks/Python.framework/Versions/3.8/lib/python3.8/site-packages (from notebook>=4.4.1->widgetsnbextension~=3.6.0->ipywidgets<8,>=7.6.5->deepchecks->deepchecks_client) (21.3.0)\n",
      "Requirement already satisfied: nbformat in /Library/Frameworks/Python.framework/Versions/3.8/lib/python3.8/site-packages (from notebook>=4.4.1->widgetsnbextension~=3.6.0->ipywidgets<8,>=7.6.5->deepchecks->deepchecks_client) (5.7.3)\n",
      "Requirement already satisfied: nbconvert>=5 in /Library/Frameworks/Python.framework/Versions/3.8/lib/python3.8/site-packages (from notebook>=4.4.1->widgetsnbextension~=3.6.0->ipywidgets<8,>=7.6.5->deepchecks->deepchecks_client) (7.2.9)\n",
      "Requirement already satisfied: Send2Trash>=1.8.0 in /Library/Frameworks/Python.framework/Versions/3.8/lib/python3.8/site-packages (from notebook>=4.4.1->widgetsnbextension~=3.6.0->ipywidgets<8,>=7.6.5->deepchecks->deepchecks_client) (1.8.0)\n",
      "Requirement already satisfied: terminado>=0.8.3 in /Library/Frameworks/Python.framework/Versions/3.8/lib/python3.8/site-packages (from notebook>=4.4.1->widgetsnbextension~=3.6.0->ipywidgets<8,>=7.6.5->deepchecks->deepchecks_client) (0.17.1)\n",
      "Requirement already satisfied: prometheus-client in /Library/Frameworks/Python.framework/Versions/3.8/lib/python3.8/site-packages (from notebook>=4.4.1->widgetsnbextension~=3.6.0->ipywidgets<8,>=7.6.5->deepchecks->deepchecks_client) (0.16.0)\n",
      "Requirement already satisfied: nbclassic>=0.4.7 in /Library/Frameworks/Python.framework/Versions/3.8/lib/python3.8/site-packages (from notebook>=4.4.1->widgetsnbextension~=3.6.0->ipywidgets<8,>=7.6.5->deepchecks->deepchecks_client) (0.5.1)\n",
      "Requirement already satisfied: jupyter-server>=1.17.0 in /Library/Frameworks/Python.framework/Versions/3.8/lib/python3.8/site-packages (from nbclassic>=0.4.7->notebook>=4.4.1->widgetsnbextension~=3.6.0->ipywidgets<8,>=7.6.5->deepchecks->deepchecks_client) (1.23.5)\n",
      "Requirement already satisfied: notebook-shim>=0.1.0 in /Library/Frameworks/Python.framework/Versions/3.8/lib/python3.8/site-packages (from nbclassic>=0.4.7->notebook>=4.4.1->widgetsnbextension~=3.6.0->ipywidgets<8,>=7.6.5->deepchecks->deepchecks_client) (0.2.2)\n",
      "Requirement already satisfied: bleach in /Library/Frameworks/Python.framework/Versions/3.8/lib/python3.8/site-packages (from nbconvert>=5->notebook>=4.4.1->widgetsnbextension~=3.6.0->ipywidgets<8,>=7.6.5->deepchecks->deepchecks_client) (6.0.0)\n",
      "Requirement already satisfied: defusedxml in /Library/Frameworks/Python.framework/Versions/3.8/lib/python3.8/site-packages (from nbconvert>=5->notebook>=4.4.1->widgetsnbextension~=3.6.0->ipywidgets<8,>=7.6.5->deepchecks->deepchecks_client) (0.7.1)\n",
      "Requirement already satisfied: jupyterlab-pygments in /Library/Frameworks/Python.framework/Versions/3.8/lib/python3.8/site-packages (from nbconvert>=5->notebook>=4.4.1->widgetsnbextension~=3.6.0->ipywidgets<8,>=7.6.5->deepchecks->deepchecks_client) (0.2.2)\n",
      "Requirement already satisfied: markupsafe>=2.0 in /Library/Frameworks/Python.framework/Versions/3.8/lib/python3.8/site-packages (from nbconvert>=5->notebook>=4.4.1->widgetsnbextension~=3.6.0->ipywidgets<8,>=7.6.5->deepchecks->deepchecks_client) (2.1.2)\n",
      "Requirement already satisfied: mistune<3,>=2.0.3 in /Library/Frameworks/Python.framework/Versions/3.8/lib/python3.8/site-packages (from nbconvert>=5->notebook>=4.4.1->widgetsnbextension~=3.6.0->ipywidgets<8,>=7.6.5->deepchecks->deepchecks_client) (2.0.5)\n",
      "Requirement already satisfied: nbclient>=0.5.0 in /Library/Frameworks/Python.framework/Versions/3.8/lib/python3.8/site-packages (from nbconvert>=5->notebook>=4.4.1->widgetsnbextension~=3.6.0->ipywidgets<8,>=7.6.5->deepchecks->deepchecks_client) (0.7.2)\n",
      "Requirement already satisfied: pandocfilters>=1.4.1 in /Library/Frameworks/Python.framework/Versions/3.8/lib/python3.8/site-packages (from nbconvert>=5->notebook>=4.4.1->widgetsnbextension~=3.6.0->ipywidgets<8,>=7.6.5->deepchecks->deepchecks_client) (1.5.0)\n",
      "Requirement already satisfied: tinycss2 in /Library/Frameworks/Python.framework/Versions/3.8/lib/python3.8/site-packages (from nbconvert>=5->notebook>=4.4.1->widgetsnbextension~=3.6.0->ipywidgets<8,>=7.6.5->deepchecks->deepchecks_client) (1.2.1)\n",
      "Requirement already satisfied: jsonschema>=2.6 in /Library/Frameworks/Python.framework/Versions/3.8/lib/python3.8/site-packages (from nbformat->notebook>=4.4.1->widgetsnbextension~=3.6.0->ipywidgets<8,>=7.6.5->deepchecks->deepchecks_client) (4.17.3)\n",
      "Requirement already satisfied: argon2-cffi-bindings in /Library/Frameworks/Python.framework/Versions/3.8/lib/python3.8/site-packages (from argon2-cffi->notebook>=4.4.1->widgetsnbextension~=3.6.0->ipywidgets<8,>=7.6.5->deepchecks->deepchecks_client) (21.2.0)\n",
      "Requirement already satisfied: attrs>=17.4.0 in /Library/Frameworks/Python.framework/Versions/3.8/lib/python3.8/site-packages (from jsonschema>=2.6->nbformat->notebook>=4.4.1->widgetsnbextension~=3.6.0->ipywidgets<8,>=7.6.5->deepchecks->deepchecks_client) (22.2.0)\n",
      "Requirement already satisfied: pkgutil-resolve-name>=1.3.10 in /Library/Frameworks/Python.framework/Versions/3.8/lib/python3.8/site-packages (from jsonschema>=2.6->nbformat->notebook>=4.4.1->widgetsnbextension~=3.6.0->ipywidgets<8,>=7.6.5->deepchecks->deepchecks_client) (1.3.10)\n",
      "Requirement already satisfied: pyrsistent!=0.17.0,!=0.17.1,!=0.17.2,>=0.14.0 in /Library/Frameworks/Python.framework/Versions/3.8/lib/python3.8/site-packages (from jsonschema>=2.6->nbformat->notebook>=4.4.1->widgetsnbextension~=3.6.0->ipywidgets<8,>=7.6.5->deepchecks->deepchecks_client) (0.19.3)\n",
      "Requirement already satisfied: websocket-client in /Library/Frameworks/Python.framework/Versions/3.8/lib/python3.8/site-packages (from jupyter-server>=1.17.0->nbclassic>=0.4.7->notebook>=4.4.1->widgetsnbextension~=3.6.0->ipywidgets<8,>=7.6.5->deepchecks->deepchecks_client) (1.5.1)\n",
      "Requirement already satisfied: cffi>=1.0.1 in /Library/Frameworks/Python.framework/Versions/3.8/lib/python3.8/site-packages (from argon2-cffi-bindings->argon2-cffi->notebook>=4.4.1->widgetsnbextension~=3.6.0->ipywidgets<8,>=7.6.5->deepchecks->deepchecks_client) (1.15.1)\n",
      "Requirement already satisfied: webencodings in /Library/Frameworks/Python.framework/Versions/3.8/lib/python3.8/site-packages (from bleach->nbconvert>=5->notebook>=4.4.1->widgetsnbextension~=3.6.0->ipywidgets<8,>=7.6.5->deepchecks->deepchecks_client) (0.5.1)\n",
      "Requirement already satisfied: pycparser in /Library/Frameworks/Python.framework/Versions/3.8/lib/python3.8/site-packages (from cffi>=1.0.1->argon2-cffi-bindings->argon2-cffi->notebook>=4.4.1->widgetsnbextension~=3.6.0->ipywidgets<8,>=7.6.5->deepchecks->deepchecks_client) (2.21)\n",
      "Installing collected packages: deepchecks_client\n",
      "  Attempting uninstall: deepchecks_client\n",
      "    Found existing installation: deepchecks-client 0.12.0\n",
      "    Uninstalling deepchecks-client-0.12.0:\n",
      "      Successfully uninstalled deepchecks-client-0.12.0\n",
      "Successfully installed deepchecks_client-0.15.2\n"
     ]
    }
   ],
   "source": [
    "import sys\n",
    "!{sys.executable} -m pip install -U deepchecks_client"
   ]
  },
  {
   "cell_type": "code",
   "execution_count": 1,
   "id": "9c6fe8f1-5dc0-4f4b-9f58-d97d4956ed7b",
   "metadata": {
    "tags": []
   },
   "outputs": [
    {
     "ename": "ModuleNotFoundError",
     "evalue": "No module named 'deepchecks_client'",
     "output_type": "error",
     "traceback": [
      "\u001b[0;31m---------------------------------------------------------------------------\u001b[0m",
      "\u001b[0;31mModuleNotFoundError\u001b[0m                       Traceback (most recent call last)",
      "\u001b[0;32mae2e5b5d-cc21-467b-a20c-d94b07ec9815\u001b[0m in \u001b[0;36m<cell line: 1>\u001b[0;34m()\u001b[0m\n\u001b[0;32m----> 1\u001b[0;31m \u001b[0;32mimport\u001b[0m \u001b[0mdeepchecks_client\u001b[0m\u001b[0;34m\u001b[0m\u001b[0;34m\u001b[0m\u001b[0m\n\u001b[0m",
      "\u001b[0;31mModuleNotFoundError\u001b[0m: No module named 'deepchecks_client'"
     ]
    }
   ],
   "source": [
    "import deepchecks_client"
   ]
  },
  {
   "cell_type": "code",
   "execution_count": 5,
   "id": "bc5029f5-bd55-475d-9a39-e0554e65eb77",
   "metadata": {
    "tags": []
   },
   "outputs": [
    {
     "ename": "ModuleNotFoundError",
     "evalue": "No module named 'deepchecks_client'",
     "output_type": "error",
     "traceback": [
      "\u001b[0;31m---------------------------------------------------------------------------\u001b[0m",
      "\u001b[0;31mModuleNotFoundError\u001b[0m                       Traceback (most recent call last)",
      "\u001b[0;32mae2e5b5d-cc21-467b-a20c-d94b07ec9815\u001b[0m in \u001b[0;36m<cell line: 9>\u001b[0;34m()\u001b[0m\n\u001b[1;32m      7\u001b[0m \u001b[0mfeature_importance\u001b[0m\u001b[0;34m\u001b[0m\u001b[0;34m\u001b[0m\u001b[0m\n\u001b[1;32m      8\u001b[0m \u001b[0;34m\u001b[0m\u001b[0m\n\u001b[0;32m----> 9\u001b[0;31m \u001b[0;32mfrom\u001b[0m \u001b[0mdeepchecks_client\u001b[0m \u001b[0;32mimport\u001b[0m \u001b[0mDeepchecksClient\u001b[0m\u001b[0;34m,\u001b[0m \u001b[0mcreate_schema\u001b[0m\u001b[0;34m,\u001b[0m \u001b[0mread_schema\u001b[0m\u001b[0;34m\u001b[0m\u001b[0;34m\u001b[0m\u001b[0m\n\u001b[0m\u001b[1;32m     10\u001b[0m \u001b[0;34m\u001b[0m\u001b[0m\n\u001b[1;32m     11\u001b[0m \u001b[0mschema_file_path\u001b[0m \u001b[0;34m=\u001b[0m \u001b[0;34m\"schema_file.yaml\"\u001b[0m\u001b[0;34m\u001b[0m\u001b[0;34m\u001b[0m\u001b[0m\n",
      "\u001b[0;31mModuleNotFoundError\u001b[0m: No module named 'deepchecks_client'"
     ]
    }
   ],
   "source": [
    "from deepchecks.tabular.datasets.regression.airbnb import load_data,\\\n",
    "load_pre_calculated_prediction, load_pre_calculated_feature_importance\n",
    "\n",
    "ref_dataset, _ = load_data(data_format=\"Dataset\")\n",
    "ref_predictions, _ = load_pre_calculated_prediction()\n",
    "feature_importance = load_pre_calculated_feature_importance() # Optional\n",
    "feature_importance\n",
    "\n",
    "from deepchecks_client import DeepchecksClient, create_schema, read_schema\n",
    "\n",
    "schema_file_path = \"schema_file.yaml\"\n",
    "create_schema(dataset=ref_dataset, schema_output_file=schema_file_path)\n",
    "read_schema(schema_file_path)\n",
    "\n",
    "import os\n",
    "\n",
    "host = \"https://localhost:3000\"\n",
    "dc_client = DeepchecksClient(host=host, token=\"Zmloc2R1aGZvYXNpZHVmaEBkZWVwY2hlY2tzLmNvbQ==.E98g8QMYj0HcCVPIDt2vVg\")\n",
    "\n",
    "model_name = \"Airbnb\"\n",
    "model_version = dc_client.create_tabular_model_version(model_name=model_name, version_name=\"ver_1\",\n",
    "schema=schema_file_path,\n",
    "feature_importance=feature_importance,\n",
    "reference_dataset=ref_dataset,\n",
    "reference_predictions=ref_predictions,\n",
    "task_type=\"regression\")"
   ]
  },
  {
   "cell_type": "code",
   "execution_count": null,
   "id": "c86d6032-8284-4de0-a06c-e63006545274",
   "metadata": {},
   "outputs": [],
   "source": []
  }
 ],
 "metadata": {
  "kernelspec": {
   "display_name": "Python 3 (ipykernel)",
   "language": "python",
   "name": "python3"
  },
  "language_info": {
   "codemirror_mode": {
    "name": "ipython",
    "version": 3
   },
   "file_extension": ".py",
   "mimetype": "text/x-python",
   "name": "python",
   "nbconvert_exporter": "python",
   "pygments_lexer": "ipython3",
   "version": "3.8.10"
  }
 },
 "nbformat": 4,
 "nbformat_minor": 5
}
